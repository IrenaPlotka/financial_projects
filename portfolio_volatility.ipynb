{
 "cells": [
  {
   "cell_type": "markdown",
   "metadata": {},
   "source": [
    "### Cumulative Total Returns & Risk-Adjusted Returns\n",
    "In the project I'm calculating cumulative total returns for stocks and then combine them into a portfolio. I also calculate risks on the security and portfolio level."
   ]
  },
  {
   "cell_type": "code",
   "execution_count": 87,
   "metadata": {},
   "outputs": [
    {
     "name": "stdout",
     "output_type": "stream",
     "text": [
      "<class 'pandas.core.frame.DataFrame'>\n",
      "RangeIndex: 504 entries, 0 to 503\n",
      "Data columns (total 5 columns):\n",
      "DsCmpyName       504 non-null object\n",
      "MarketDate       504 non-null datetime64[ns]\n",
      "Close_           504 non-null float64\n",
      "EffectiveDate    2 non-null datetime64[ns]\n",
      "DivRate          2 non-null float64\n",
      "dtypes: datetime64[ns](2), float64(2), object(1)\n",
      "memory usage: 19.8+ KB\n"
     ]
    },
    {
     "data": {
      "text/html": [
       "<div>\n",
       "<style scoped>\n",
       "    .dataframe tbody tr th:only-of-type {\n",
       "        vertical-align: middle;\n",
       "    }\n",
       "\n",
       "    .dataframe tbody tr th {\n",
       "        vertical-align: top;\n",
       "    }\n",
       "\n",
       "    .dataframe thead th {\n",
       "        text-align: right;\n",
       "    }\n",
       "</style>\n",
       "<table border=\"1\" class=\"dataframe\">\n",
       "  <thead>\n",
       "    <tr style=\"text-align: right;\">\n",
       "      <th></th>\n",
       "      <th>DsCmpyName</th>\n",
       "      <th>MarketDate</th>\n",
       "      <th>Close_</th>\n",
       "      <th>EffectiveDate</th>\n",
       "      <th>DivRate</th>\n",
       "    </tr>\n",
       "  </thead>\n",
       "  <tbody>\n",
       "    <tr>\n",
       "      <td>0</td>\n",
       "      <td>PIK GROUP</td>\n",
       "      <td>2019-07-31</td>\n",
       "      <td>395.00000</td>\n",
       "      <td>NaT</td>\n",
       "      <td>NaN</td>\n",
       "    </tr>\n",
       "    <tr>\n",
       "      <td>1</td>\n",
       "      <td>PIK GROUP</td>\n",
       "      <td>2019-10-25</td>\n",
       "      <td>336.00000</td>\n",
       "      <td>NaT</td>\n",
       "      <td>NaN</td>\n",
       "    </tr>\n",
       "    <tr>\n",
       "      <td>2</td>\n",
       "      <td>PIK GROUP</td>\n",
       "      <td>2019-06-24</td>\n",
       "      <td>370.39991</td>\n",
       "      <td>NaT</td>\n",
       "      <td>NaN</td>\n",
       "    </tr>\n",
       "    <tr>\n",
       "      <td>3</td>\n",
       "      <td>PIK GROUP</td>\n",
       "      <td>2019-03-13</td>\n",
       "      <td>353.80005</td>\n",
       "      <td>NaT</td>\n",
       "      <td>NaN</td>\n",
       "    </tr>\n",
       "    <tr>\n",
       "      <td>4</td>\n",
       "      <td>PIK GROUP</td>\n",
       "      <td>2019-07-17</td>\n",
       "      <td>383.89991</td>\n",
       "      <td>NaT</td>\n",
       "      <td>NaN</td>\n",
       "    </tr>\n",
       "  </tbody>\n",
       "</table>\n",
       "</div>"
      ],
      "text/plain": [
       "  DsCmpyName MarketDate     Close_ EffectiveDate  DivRate\n",
       "0  PIK GROUP 2019-07-31  395.00000           NaT      NaN\n",
       "1  PIK GROUP 2019-10-25  336.00000           NaT      NaN\n",
       "2  PIK GROUP 2019-06-24  370.39991           NaT      NaN\n",
       "3  PIK GROUP 2019-03-13  353.80005           NaT      NaN\n",
       "4  PIK GROUP 2019-07-17  383.89991           NaT      NaN"
      ]
     },
     "execution_count": 87,
     "metadata": {},
     "output_type": "execute_result"
    }
   ],
   "source": [
    "import pandas as pd\n",
    "import numpy as np\n",
    "import pyodbc \n",
    "from matplotlib import pyplot as plt\n",
    "\n",
    "cnxn = pyodbc.connect(\"Driver={SQL Server};Server=qai97-qadirectcloud-default-0j.database.windows.net;UID=0j.ivan.stroshkov;PWD=DwT!dYcV4Eaq%6L9;Database=qai;\")\n",
    "sql = \"\"\"\n",
    "SELECT dbo.DS2Company.DsCmpyName, dbo.DS2PrimQtPrc.MarketDate, dbo.DS2PrimQtPrc.Close_, dbo.DS2Div.EffectiveDate, dbo.DS2Div.DivRate\n",
    "FROM dbo.DS2Company\n",
    "JOIN DBO.DS2Security\n",
    "ON DBO.DS2Company.DsCmpyCode = DBO.DS2Security.DsCmpyCode\n",
    "JOIN DBO.DS2ISINChg\n",
    "ON DBO.DS2Security.DsSecCode = DBO.DS2ISINChg.DsSecCode\n",
    "JOIN DS2CtryQtInfo\n",
    "ON DBO.DS2ISINChg.DsSecCode = DS2CtryQtInfo.DsSecCode\n",
    "JOIN dbo.DS2PrimQtPrc\n",
    "ON DS2CtryQtInfo.InfoCode = dbo.DS2PrimQtPrc.InfoCode\n",
    "LEFT JOIN dbo.DS2Div\n",
    "ON dbo.DS2PrimQtPrc.InfoCode = dbo.DS2Div.InfoCode AND dbo.DS2PrimQtPrc.MarketDate = dbo.DS2Div.EffectiveDate\n",
    "WHERE (DBO.DS2ISINChg.ISIN = 'RU000A0B90N8' OR DBO.DS2ISINChg.ISIN = 'RU000A0JP7J7')\n",
    "AND  (dbo.DS2PrimQtPrc.MarketDate BETWEEN '2019-01-01 00:00:00.000' AND '2019-12-31 00:00:00.000')\n",
    "ORDER BY dbo.DS2Company.DsCmpyName;\n",
    "\"\"\"\n",
    "df = pd.read_sql_query(sql, cnxn)\n",
    "df.info()\n",
    "df.head()"
   ]
  },
  {
   "cell_type": "code",
   "execution_count": 70,
   "metadata": {},
   "outputs": [
    {
     "data": {
      "text/html": [
       "<div>\n",
       "<style scoped>\n",
       "    .dataframe tbody tr th:only-of-type {\n",
       "        vertical-align: middle;\n",
       "    }\n",
       "\n",
       "    .dataframe tbody tr th {\n",
       "        vertical-align: top;\n",
       "    }\n",
       "\n",
       "    .dataframe thead th {\n",
       "        text-align: right;\n",
       "    }\n",
       "</style>\n",
       "<table border=\"1\" class=\"dataframe\">\n",
       "  <thead>\n",
       "    <tr style=\"text-align: right;\">\n",
       "      <th></th>\n",
       "      <th>Company</th>\n",
       "      <th>MarketDate</th>\n",
       "      <th>Close</th>\n",
       "      <th>EffectiveDate</th>\n",
       "      <th>DivRate</th>\n",
       "      <th>Total_sum</th>\n",
       "    </tr>\n",
       "  </thead>\n",
       "  <tbody>\n",
       "    <tr>\n",
       "      <td>0</td>\n",
       "      <td>PIK GROUP</td>\n",
       "      <td>2019-07-31</td>\n",
       "      <td>395.00000</td>\n",
       "      <td>NaT</td>\n",
       "      <td>0.0</td>\n",
       "      <td>395.00000</td>\n",
       "    </tr>\n",
       "    <tr>\n",
       "      <td>1</td>\n",
       "      <td>PIK GROUP</td>\n",
       "      <td>2019-10-25</td>\n",
       "      <td>336.00000</td>\n",
       "      <td>NaT</td>\n",
       "      <td>0.0</td>\n",
       "      <td>336.00000</td>\n",
       "    </tr>\n",
       "    <tr>\n",
       "      <td>2</td>\n",
       "      <td>PIK GROUP</td>\n",
       "      <td>2019-06-24</td>\n",
       "      <td>370.39991</td>\n",
       "      <td>NaT</td>\n",
       "      <td>0.0</td>\n",
       "      <td>370.39991</td>\n",
       "    </tr>\n",
       "    <tr>\n",
       "      <td>3</td>\n",
       "      <td>PIK GROUP</td>\n",
       "      <td>2019-03-13</td>\n",
       "      <td>353.80005</td>\n",
       "      <td>NaT</td>\n",
       "      <td>0.0</td>\n",
       "      <td>353.80005</td>\n",
       "    </tr>\n",
       "    <tr>\n",
       "      <td>4</td>\n",
       "      <td>PIK GROUP</td>\n",
       "      <td>2019-07-17</td>\n",
       "      <td>383.89991</td>\n",
       "      <td>NaT</td>\n",
       "      <td>0.0</td>\n",
       "      <td>383.89991</td>\n",
       "    </tr>\n",
       "  </tbody>\n",
       "</table>\n",
       "</div>"
      ],
      "text/plain": [
       "     Company MarketDate      Close EffectiveDate  DivRate  Total_sum\n",
       "0  PIK GROUP 2019-07-31  395.00000           NaT      0.0  395.00000\n",
       "1  PIK GROUP 2019-10-25  336.00000           NaT      0.0  336.00000\n",
       "2  PIK GROUP 2019-06-24  370.39991           NaT      0.0  370.39991\n",
       "3  PIK GROUP 2019-03-13  353.80005           NaT      0.0  353.80005\n",
       "4  PIK GROUP 2019-07-17  383.89991           NaT      0.0  383.89991"
      ]
     },
     "execution_count": 70,
     "metadata": {},
     "output_type": "execute_result"
    }
   ],
   "source": [
    "df.fillna(value={'DivRate':0}, inplace=True)\n",
    "df['Total_sum'] = df['Close_'] + df['DivRate']\n",
    "df.rename(columns={'DsCmpyName':'Company', 'Close_':'Close'}, inplace=True)\n",
    "df.head()"
   ]
  },
  {
   "cell_type": "code",
   "execution_count": 71,
   "metadata": {},
   "outputs": [
    {
     "data": {
      "text/html": [
       "<div>\n",
       "<style scoped>\n",
       "    .dataframe tbody tr th:only-of-type {\n",
       "        vertical-align: middle;\n",
       "    }\n",
       "\n",
       "    .dataframe tbody tr th {\n",
       "        vertical-align: top;\n",
       "    }\n",
       "\n",
       "    .dataframe thead tr th {\n",
       "        text-align: left;\n",
       "    }\n",
       "\n",
       "    .dataframe thead tr:last-of-type th {\n",
       "        text-align: right;\n",
       "    }\n",
       "</style>\n",
       "<table border=\"1\" class=\"dataframe\">\n",
       "  <thead>\n",
       "    <tr>\n",
       "      <th></th>\n",
       "      <th colspan=\"2\" halign=\"left\">Close</th>\n",
       "      <th colspan=\"2\" halign=\"left\">DivRate</th>\n",
       "      <th colspan=\"2\" halign=\"left\">Total_sum</th>\n",
       "    </tr>\n",
       "    <tr>\n",
       "      <th>Company</th>\n",
       "      <th>PIK GROUP</th>\n",
       "      <th>RASPADSKAYA COAL OJSC</th>\n",
       "      <th>PIK GROUP</th>\n",
       "      <th>RASPADSKAYA COAL OJSC</th>\n",
       "      <th>PIK GROUP</th>\n",
       "      <th>RASPADSKAYA COAL OJSC</th>\n",
       "    </tr>\n",
       "    <tr>\n",
       "      <th>MarketDate</th>\n",
       "      <th></th>\n",
       "      <th></th>\n",
       "      <th></th>\n",
       "      <th></th>\n",
       "      <th></th>\n",
       "      <th></th>\n",
       "    </tr>\n",
       "  </thead>\n",
       "  <tbody>\n",
       "    <tr>\n",
       "      <td>2019-01-03</td>\n",
       "      <td>374.69996</td>\n",
       "      <td>127.98000</td>\n",
       "      <td>0.0</td>\n",
       "      <td>0.0</td>\n",
       "      <td>374.69996</td>\n",
       "      <td>127.98000</td>\n",
       "    </tr>\n",
       "    <tr>\n",
       "      <td>2019-01-04</td>\n",
       "      <td>375.19996</td>\n",
       "      <td>127.70000</td>\n",
       "      <td>0.0</td>\n",
       "      <td>0.0</td>\n",
       "      <td>375.19996</td>\n",
       "      <td>127.70000</td>\n",
       "    </tr>\n",
       "    <tr>\n",
       "      <td>2019-01-08</td>\n",
       "      <td>376.60010</td>\n",
       "      <td>126.84000</td>\n",
       "      <td>0.0</td>\n",
       "      <td>0.0</td>\n",
       "      <td>376.60010</td>\n",
       "      <td>126.84000</td>\n",
       "    </tr>\n",
       "    <tr>\n",
       "      <td>2019-01-09</td>\n",
       "      <td>374.69996</td>\n",
       "      <td>128.72001</td>\n",
       "      <td>0.0</td>\n",
       "      <td>0.0</td>\n",
       "      <td>374.69996</td>\n",
       "      <td>128.72001</td>\n",
       "    </tr>\n",
       "    <tr>\n",
       "      <td>2019-01-10</td>\n",
       "      <td>374.19996</td>\n",
       "      <td>128.20000</td>\n",
       "      <td>0.0</td>\n",
       "      <td>0.0</td>\n",
       "      <td>374.19996</td>\n",
       "      <td>128.20000</td>\n",
       "    </tr>\n",
       "    <tr>\n",
       "      <td>...</td>\n",
       "      <td>...</td>\n",
       "      <td>...</td>\n",
       "      <td>...</td>\n",
       "      <td>...</td>\n",
       "      <td>...</td>\n",
       "      <td>...</td>\n",
       "    </tr>\n",
       "    <tr>\n",
       "      <td>2019-12-24</td>\n",
       "      <td>395.00000</td>\n",
       "      <td>109.30001</td>\n",
       "      <td>0.0</td>\n",
       "      <td>0.0</td>\n",
       "      <td>395.00000</td>\n",
       "      <td>109.30001</td>\n",
       "    </tr>\n",
       "    <tr>\n",
       "      <td>2019-12-25</td>\n",
       "      <td>394.39991</td>\n",
       "      <td>107.90000</td>\n",
       "      <td>0.0</td>\n",
       "      <td>0.0</td>\n",
       "      <td>394.39991</td>\n",
       "      <td>107.90000</td>\n",
       "    </tr>\n",
       "    <tr>\n",
       "      <td>2019-12-26</td>\n",
       "      <td>398.10010</td>\n",
       "      <td>107.68000</td>\n",
       "      <td>0.0</td>\n",
       "      <td>0.0</td>\n",
       "      <td>398.10010</td>\n",
       "      <td>107.68000</td>\n",
       "    </tr>\n",
       "    <tr>\n",
       "      <td>2019-12-27</td>\n",
       "      <td>400.80005</td>\n",
       "      <td>107.44001</td>\n",
       "      <td>0.0</td>\n",
       "      <td>0.0</td>\n",
       "      <td>400.80005</td>\n",
       "      <td>107.44001</td>\n",
       "    </tr>\n",
       "    <tr>\n",
       "      <td>2019-12-30</td>\n",
       "      <td>400.39991</td>\n",
       "      <td>106.60001</td>\n",
       "      <td>0.0</td>\n",
       "      <td>0.0</td>\n",
       "      <td>400.39991</td>\n",
       "      <td>106.60001</td>\n",
       "    </tr>\n",
       "  </tbody>\n",
       "</table>\n",
       "<p>252 rows × 6 columns</p>\n",
       "</div>"
      ],
      "text/plain": [
       "                Close                         DivRate                        \\\n",
       "Company     PIK GROUP RASPADSKAYA COAL OJSC PIK GROUP RASPADSKAYA COAL OJSC   \n",
       "MarketDate                                                                    \n",
       "2019-01-03  374.69996             127.98000       0.0                   0.0   \n",
       "2019-01-04  375.19996             127.70000       0.0                   0.0   \n",
       "2019-01-08  376.60010             126.84000       0.0                   0.0   \n",
       "2019-01-09  374.69996             128.72001       0.0                   0.0   \n",
       "2019-01-10  374.19996             128.20000       0.0                   0.0   \n",
       "...               ...                   ...       ...                   ...   \n",
       "2019-12-24  395.00000             109.30001       0.0                   0.0   \n",
       "2019-12-25  394.39991             107.90000       0.0                   0.0   \n",
       "2019-12-26  398.10010             107.68000       0.0                   0.0   \n",
       "2019-12-27  400.80005             107.44001       0.0                   0.0   \n",
       "2019-12-30  400.39991             106.60001       0.0                   0.0   \n",
       "\n",
       "            Total_sum                        \n",
       "Company     PIK GROUP RASPADSKAYA COAL OJSC  \n",
       "MarketDate                                   \n",
       "2019-01-03  374.69996             127.98000  \n",
       "2019-01-04  375.19996             127.70000  \n",
       "2019-01-08  376.60010             126.84000  \n",
       "2019-01-09  374.69996             128.72001  \n",
       "2019-01-10  374.19996             128.20000  \n",
       "...               ...                   ...  \n",
       "2019-12-24  395.00000             109.30001  \n",
       "2019-12-25  394.39991             107.90000  \n",
       "2019-12-26  398.10010             107.68000  \n",
       "2019-12-27  400.80005             107.44001  \n",
       "2019-12-30  400.39991             106.60001  \n",
       "\n",
       "[252 rows x 6 columns]"
      ]
     },
     "execution_count": 71,
     "metadata": {},
     "output_type": "execute_result"
    }
   ],
   "source": [
    "pivoted = df.pivot(index= 'MarketDate', columns = 'Company', values = ['Close', 'DivRate', 'Total_sum'])\n",
    "pivoted"
   ]
  },
  {
   "cell_type": "code",
   "execution_count": 72,
   "metadata": {},
   "outputs": [
    {
     "data": {
      "text/html": [
       "<div>\n",
       "<style scoped>\n",
       "    .dataframe tbody tr th:only-of-type {\n",
       "        vertical-align: middle;\n",
       "    }\n",
       "\n",
       "    .dataframe tbody tr th {\n",
       "        vertical-align: top;\n",
       "    }\n",
       "\n",
       "    .dataframe thead th {\n",
       "        text-align: right;\n",
       "    }\n",
       "</style>\n",
       "<table border=\"1\" class=\"dataframe\">\n",
       "  <thead>\n",
       "    <tr style=\"text-align: right;\">\n",
       "      <th>Company</th>\n",
       "      <th>PIK GROUP</th>\n",
       "      <th>RASPADSKAYA COAL OJSC</th>\n",
       "    </tr>\n",
       "    <tr>\n",
       "      <th>MarketDate</th>\n",
       "      <th></th>\n",
       "      <th></th>\n",
       "    </tr>\n",
       "  </thead>\n",
       "  <tbody>\n",
       "    <tr>\n",
       "      <td>2019-01-03</td>\n",
       "      <td>NaN</td>\n",
       "      <td>NaN</td>\n",
       "    </tr>\n",
       "    <tr>\n",
       "      <td>2019-01-04</td>\n",
       "      <td>0.001334</td>\n",
       "      <td>-0.002188</td>\n",
       "    </tr>\n",
       "    <tr>\n",
       "      <td>2019-01-08</td>\n",
       "      <td>0.003732</td>\n",
       "      <td>-0.006735</td>\n",
       "    </tr>\n",
       "    <tr>\n",
       "      <td>2019-01-09</td>\n",
       "      <td>-0.005046</td>\n",
       "      <td>0.014822</td>\n",
       "    </tr>\n",
       "    <tr>\n",
       "      <td>2019-01-10</td>\n",
       "      <td>-0.001334</td>\n",
       "      <td>-0.004040</td>\n",
       "    </tr>\n",
       "  </tbody>\n",
       "</table>\n",
       "</div>"
      ],
      "text/plain": [
       "Company     PIK GROUP  RASPADSKAYA COAL OJSC\n",
       "MarketDate                                  \n",
       "2019-01-03        NaN                    NaN\n",
       "2019-01-04   0.001334              -0.002188\n",
       "2019-01-08   0.003732              -0.006735\n",
       "2019-01-09  -0.005046               0.014822\n",
       "2019-01-10  -0.001334              -0.004040"
      ]
     },
     "execution_count": 72,
     "metadata": {},
     "output_type": "execute_result"
    }
   ],
   "source": [
    "# counting daily returns for each company\n",
    "daily_returns = pivoted['Total_sum'].pct_change()\n",
    "daily_returns.head()"
   ]
  },
  {
   "cell_type": "code",
   "execution_count": 91,
   "metadata": {},
   "outputs": [
    {
     "data": {
      "text/html": [
       "<div>\n",
       "<style scoped>\n",
       "    .dataframe tbody tr th:only-of-type {\n",
       "        vertical-align: middle;\n",
       "    }\n",
       "\n",
       "    .dataframe tbody tr th {\n",
       "        vertical-align: top;\n",
       "    }\n",
       "\n",
       "    .dataframe thead th {\n",
       "        text-align: right;\n",
       "    }\n",
       "</style>\n",
       "<table border=\"1\" class=\"dataframe\">\n",
       "  <thead>\n",
       "    <tr style=\"text-align: right;\">\n",
       "      <th>Company</th>\n",
       "      <th>PIK GROUP</th>\n",
       "      <th>RASPADSKAYA COAL OJSC</th>\n",
       "    </tr>\n",
       "    <tr>\n",
       "      <th>MarketDate</th>\n",
       "      <th></th>\n",
       "      <th></th>\n",
       "    </tr>\n",
       "  </thead>\n",
       "  <tbody>\n",
       "    <tr>\n",
       "      <td>2019-01-03</td>\n",
       "      <td>NaN</td>\n",
       "      <td>NaN</td>\n",
       "    </tr>\n",
       "    <tr>\n",
       "      <td>2019-01-04</td>\n",
       "      <td>1.334401e-03</td>\n",
       "      <td>-0.002188</td>\n",
       "    </tr>\n",
       "    <tr>\n",
       "      <td>2019-01-08</td>\n",
       "      <td>5.071097e-03</td>\n",
       "      <td>-0.008908</td>\n",
       "    </tr>\n",
       "    <tr>\n",
       "      <td>2019-01-09</td>\n",
       "      <td>-1.110223e-16</td>\n",
       "      <td>0.005782</td>\n",
       "    </tr>\n",
       "    <tr>\n",
       "      <td>2019-01-10</td>\n",
       "      <td>-1.334401e-03</td>\n",
       "      <td>0.001719</td>\n",
       "    </tr>\n",
       "  </tbody>\n",
       "</table>\n",
       "</div>"
      ],
      "text/plain": [
       "Company        PIK GROUP  RASPADSKAYA COAL OJSC\n",
       "MarketDate                                     \n",
       "2019-01-03           NaN                    NaN\n",
       "2019-01-04  1.334401e-03              -0.002188\n",
       "2019-01-08  5.071097e-03              -0.008908\n",
       "2019-01-09 -1.110223e-16               0.005782\n",
       "2019-01-10 -1.334401e-03               0.001719"
      ]
     },
     "execution_count": 91,
     "metadata": {},
     "output_type": "execute_result"
    }
   ],
   "source": [
    "# cumulative total return for each company\n",
    "cum_total_return = (daily_returns + 1).cumprod() - 1\n",
    "cum_total_return.head()"
   ]
  },
  {
   "cell_type": "code",
   "execution_count": 92,
   "metadata": {},
   "outputs": [
    {
     "data": {
      "image/png": "[encoded data removed]",
      "text/plain": [
       "<Figure size 576x432 with 1 Axes>"
      ]
     },
     "metadata": {
      "needs_background": "light"
     },
     "output_type": "display_data"
    }
   ],
   "source": [
    "# comparing cumulative total return of the two companies\n",
    "cum_total_return.plot(figsize=(8, 6))\n",
    "plt.title('RASPADSKAYA COAL OJSC & PIK GROUP Cumulative Total Return')\n",
    "plt.ylabel('Percent')\n",
    "plt.show()"
   ]
  },
  {
   "cell_type": "markdown",
   "metadata": {},
   "source": [
    "From the plot above we can conclude that cumulative returns of PIK Group didn't vary greatly in contrary to Raspadskaya.\n",
    "If we have a stock portfolio where PIK - 80% and Raspadskaya - 20%, we can calculate portfolio's cumulative total return and volatility."
   ]
  },
  {
   "cell_type": "code",
   "execution_count": 93,
   "metadata": {},
   "outputs": [
    {
     "data": {
      "text/plain": [
       "Text(0.5, 1.0, \"Portfolio Cumulative Return vs Instruments' Cumulative Returns\")"
      ]
     },
     "execution_count": 93,
     "metadata": {},
     "output_type": "execute_result"
    },
    {
     "data": {
      "image/png": "[encoded data removed]",
      "text/plain": [
       "<Figure size 576x432 with 1 Axes>"
      ]
     },
     "metadata": {
      "needs_background": "light"
     },
     "output_type": "display_data"
    }
   ],
   "source": [
    "# plotting portfolio cumulative total return\n",
    "cum_total_return['portfolio_cum_return'] = cum_total_return.apply(lambda row: row['PIK GROUP']*0.8 + row['RASPADSKAYA COAL OJSC']*0.2, axis=1)\n",
    "cum_total_return.plot(figsize=(8, 6))\n",
    "plt.title(\"Portfolio Cumulative Return vs Instruments' Cumulative Returns\")"
   ]
  },
  {
   "cell_type": "code",
   "execution_count": 94,
   "metadata": {},
   "outputs": [
    {
     "data": {
      "text/plain": [
       "-0.18912074808473542"
      ]
     },
     "execution_count": 94,
     "metadata": {},
     "output_type": "execute_result"
    }
   ],
   "source": [
    "corr = cum_total_return['PIK GROUP'].corr(cum_total_return['RASPADSKAYA COAL OJSC'])\n",
    "corr"
   ]
  },
  {
   "cell_type": "code",
   "execution_count": 95,
   "metadata": {},
   "outputs": [
    {
     "data": {
      "text/plain": [
       "0.002058377049186876"
      ]
     },
     "execution_count": 95,
     "metadata": {},
     "output_type": "execute_result"
    }
   ],
   "source": [
    "# variety for pik\n",
    "pik_var = cum_total_return['PIK GROUP'].var()\n",
    "pik_var"
   ]
  },
  {
   "cell_type": "code",
   "execution_count": 96,
   "metadata": {},
   "outputs": [
    {
     "data": {
      "text/plain": [
       "0.045369340409431524"
      ]
     },
     "execution_count": 96,
     "metadata": {},
     "output_type": "execute_result"
    }
   ],
   "source": [
    "# pik's daily volatility\n",
    "pik_std = cum_total_return['PIK GROUP'].std()\n",
    "pik_std"
   ]
  },
  {
   "cell_type": "code",
   "execution_count": 97,
   "metadata": {},
   "outputs": [
    {
     "data": {
      "text/plain": [
       "0.7202159512223351"
      ]
     },
     "execution_count": 97,
     "metadata": {},
     "output_type": "execute_result"
    }
   ],
   "source": [
    "# pik's annualized volatility\n",
    "pik_ann_std = pik_std*np.sqrt(252) \n",
    "pik_ann_std"
   ]
  },
  {
   "cell_type": "code",
   "execution_count": 98,
   "metadata": {},
   "outputs": [
    {
     "data": {
      "text/plain": [
       "0.011678136026292934"
      ]
     },
     "execution_count": 98,
     "metadata": {},
     "output_type": "execute_result"
    }
   ],
   "source": [
    "# variety for raspadskaya\n",
    "rasp_var = cum_total_return['RASPADSKAYA COAL OJSC'].var()\n",
    "rasp_var"
   ]
  },
  {
   "cell_type": "code",
   "execution_count": 99,
   "metadata": {},
   "outputs": [
    {
     "data": {
      "text/plain": [
       "0.10806542474951428"
      ]
     },
     "execution_count": 99,
     "metadata": {},
     "output_type": "execute_result"
    }
   ],
   "source": [
    "# daily volatility for raspadskaya\n",
    "rasp_std = cum_total_return['RASPADSKAYA COAL OJSC'].std()\n",
    "rasp_std"
   ]
  },
  {
   "cell_type": "code",
   "execution_count": 100,
   "metadata": {},
   "outputs": [
    {
     "data": {
      "text/plain": [
       "1.7154854352706757"
      ]
     },
     "execution_count": 100,
     "metadata": {},
     "output_type": "execute_result"
    }
   ],
   "source": [
    "# raspadskaya's annualized volatility\n",
    "rasp_ann_std = rasp_std*np.sqrt(252)\n",
    "rasp_ann_std"
   ]
  },
  {
   "cell_type": "code",
   "execution_count": 101,
   "metadata": {},
   "outputs": [
    {
     "data": {
      "text/plain": [
       "0.0014877725152429358"
      ]
     },
     "execution_count": 101,
     "metadata": {},
     "output_type": "execute_result"
    }
   ],
   "source": [
    "# daily portfolio volatility (std)\n",
    "daily_portfolio_vol = 0.8**2*pik_var + 0.2**2*rasp_var + 2*0.8*0.2*corr*pik_std*rasp_std\n",
    "daily_portfolio_vol"
   ]
  },
  {
   "cell_type": "markdown",
   "metadata": {},
   "source": [
    "Volatilities of companies are not additive when it comes to portfolio risk. One needs to account for correlations between the two stocks. As correlation is negative, a lot of risk is diversified away."
   ]
  },
  {
   "cell_type": "code",
   "execution_count": 102,
   "metadata": {},
   "outputs": [
    {
     "data": {
      "text/plain": [
       "0.023617656496619167"
      ]
     },
     "execution_count": 102,
     "metadata": {},
     "output_type": "execute_result"
    }
   ],
   "source": [
    "# annualized portfolio volatility\n",
    "annual_portfolio_vol = daily_portfolio_vol*np.sqrt(252)\n",
    "annual_portfolio_vol"
   ]
  },
  {
   "cell_type": "markdown",
   "metadata": {},
   "source": [
    "### Risk-adjusted Returns"
   ]
  },
  {
   "cell_type": "code",
   "execution_count": 103,
   "metadata": {},
   "outputs": [
    {
     "data": {
      "text/plain": [
       "0.09523265579147157"
      ]
     },
     "execution_count": 103,
     "metadata": {},
     "output_type": "execute_result"
    }
   ],
   "source": [
    "risk_adj_return_pik = cum_total_return['PIK GROUP'].iloc[-1]/pik_ann_std\n",
    "risk_adj_return_pik"
   ]
  },
  {
   "cell_type": "code",
   "execution_count": 104,
   "metadata": {},
   "outputs": [
    {
     "data": {
      "text/plain": [
       "-0.09738192533694798"
      ]
     },
     "execution_count": 104,
     "metadata": {},
     "output_type": "execute_result"
    }
   ],
   "source": [
    "risk_adj_return_rasp = cum_total_return['RASPADSKAYA COAL OJSC'].iloc[-1]/rasp_ann_std\n",
    "risk_adj_return_rasp"
   ]
  },
  {
   "cell_type": "code",
   "execution_count": 105,
   "metadata": {},
   "outputs": [
    {
     "data": {
      "text/plain": [
       "0.9086001954033341"
      ]
     },
     "execution_count": 105,
     "metadata": {},
     "output_type": "execute_result"
    }
   ],
   "source": [
    "risk_adj_return_portfolio = cum_total_return['portfolio_cum_return'].iloc[-1]/annual_portfolio_vol\n",
    "risk_adj_return_portfolio"
   ]
  },
  {
   "cell_type": "markdown",
   "metadata": {},
   "source": [
    "By combining two uncorrelated stocks in the portfolio we achieved a superior return for a unit of risk."
   ]
  }
 ],
 "metadata": {
  "kernelspec": {
   "display_name": "Python 3",
   "language": "python",
   "name": "python3"
  },
  "language_info": {
   "codemirror_mode": {
    "name": "ipython",
    "version": 3
   },
   "file_extension": ".py",
   "mimetype": "text/x-python",
   "name": "python",
   "nbconvert_exporter": "python",
   "pygments_lexer": "ipython3",
   "version": "3.7.4"
  }
 },
 "nbformat": 4,
 "nbformat_minor": 2
}
